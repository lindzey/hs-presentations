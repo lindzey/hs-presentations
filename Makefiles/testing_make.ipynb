{
 "metadata": {
  "name": "testing_make"
 },
 "nbformat": 3,
 "nbformat_minor": 0,
 "worksheets": [
  {
   "cells": [
    {
     "cell_type": "code",
     "collapsed": false,
     "input": [
      "%%bash\n",
      "echo $WAIS/targ/tpro/* | sed 's/ /\\'$'\\n/g'\n",
      "pwd"
     ],
     "language": "python",
     "metadata": {},
     "outputs": [
      {
       "output_type": "stream",
       "stream": "stdout",
       "text": [
        "/Users/lindzey/Documents/UTIG/WAIS/targ/tpro/ASB\n",
        "/Users/lindzey/Documents/UTIG/WAIS/targ/tpro/GLAS\n",
        "/Users/lindzey/Documents/UTIG/WAIS/targ/tpro/ICP3\n",
        "/Users/lindzey/Documents/UTIG/WAIS/targ/tpro/NWZ\n",
        "/Users/lindzey/Documents/UTIG/WAIS/targ/tpro/WSB\n",
        "/Users/lindzey/Documents/HackerSchool/Presentations/Makefiles\n"
       ]
      }
     ],
     "prompt_number": 1
    },
    {
     "cell_type": "raw",
     "metadata": {},
     "source": [
      "I've gotten sick of running all steps in a data processing pipeline by hand; make seems like it solves the exact same problem (but usually for code). So, I'm trying to figure out how to get it to do everything that my hodge-podge of bash scripts does. \n",
      "\n",
      "None of this will be in python, but thanks to ipython's \"%%bash\" magic, I can still use ipython notebook =)"
     ]
    },
    {
     "cell_type": "raw",
     "metadata": {},
     "source": [
      "Wishlist:\n",
      "    * specify rules for all files matching a given pattern\n",
      "    * load list of targets from external file\n",
      "    \n",
      "    * handle pulling data from multiple sources, each with diff rule for figuring out filename\n",
      "    * continue if build fails (we'll often have missing files - just want to output a warning and move along)\n",
      "    * rebuild data files if source data OR code changed\n",
      "    * run steps in parallel \n",
      "\n",
      "    * handle complicated shell commands and/or call other scripts (not sure what'll be the easiest way to import rules)"
     ]
    },
    {
     "cell_type": "raw",
     "metadata": {},
     "source": [
      "First, we need to set up a toy filesystem to test on ..."
     ]
    },
    {
     "cell_type": "code",
     "collapsed": false,
     "input": [
      "cat setup_filesystem1.sh"
     ],
     "language": "python",
     "metadata": {},
     "outputs": [
      {
       "output_type": "stream",
       "stream": "stdout",
       "text": [
        "#! /usr/bin/env bash\r\n",
        "\r\n",
        "fs=filesystem1\r\n",
        "mkdir -p $fs\r\n",
        "\r\n",
        "for year in 2003 2004 2005; do\r\n",
        "    mkdir -p $fs/$year\r\n",
        "    \r\n",
        "    for month in jan feb march; do\r\n",
        "\tmkdir -p $fs/$year/$month\r\n",
        "\ttouch $fs/$year/$month/data.input\r\n",
        "    done\r\n",
        "    \r\n",
        "    mkdir -p $fs/data\r\n",
        "    for num in 1 2 3 4 5; do\r\n",
        "\ttouch $fs/data/data_$num.txt\r\n",
        "    done\r\n",
        "\r\n",
        "done\r\n"
       ]
      }
     ],
     "prompt_number": 2
    },
    {
     "cell_type": "code",
     "collapsed": false,
     "input": [
      "%%bash\n",
      "./setup_filesystem1.sh\n",
      "tree filesystem1  # I installed tree from http://mama.indstate.edu/users/ice/tree/"
     ],
     "language": "python",
     "metadata": {},
     "outputs": [
      {
       "output_type": "stream",
       "stream": "stdout",
       "text": [
        "filesystem1\n",
        "\u251c\u2500\u2500 2003\n",
        "\u2502\u00a0\u00a0 \u251c\u2500\u2500 feb\n",
        "\u2502\u00a0\u00a0 \u2502\u00a0\u00a0 \u2514\u2500\u2500 data.input\n",
        "\u2502\u00a0\u00a0 \u251c\u2500\u2500 jan\n",
        "\u2502\u00a0\u00a0 \u2502\u00a0\u00a0 \u2514\u2500\u2500 data.input\n",
        "\u2502\u00a0\u00a0 \u2514\u2500\u2500 march\n",
        "\u2502\u00a0\u00a0     \u2514\u2500\u2500 data.input\n",
        "\u251c\u2500\u2500 2004\n",
        "\u2502\u00a0\u00a0 \u251c\u2500\u2500 feb\n",
        "\u2502\u00a0\u00a0 \u2502\u00a0\u00a0 \u2514\u2500\u2500 data.input\n",
        "\u2502\u00a0\u00a0 \u251c\u2500\u2500 jan\n",
        "\u2502\u00a0\u00a0 \u2502\u00a0\u00a0 \u2514\u2500\u2500 data.input\n",
        "\u2502\u00a0\u00a0 \u2514\u2500\u2500 march\n",
        "\u2502\u00a0\u00a0     \u2514\u2500\u2500 data.input\n",
        "\u2514\u2500\u2500 2005\n",
        "    \u251c\u2500\u2500 feb\n",
        "    \u2502\u00a0\u00a0 \u2514\u2500\u2500 data.input\n",
        "    \u251c\u2500\u2500 jan\n",
        "    \u2502\u00a0\u00a0 \u2514\u2500\u2500 data.input\n",
        "    \u2514\u2500\u2500 march\n",
        "        \u2514\u2500\u2500 data.input\n",
        "\n",
        "12 directories, 9 files\n"
       ]
      }
     ],
     "prompt_number": 18
    },
    {
     "cell_type": "markdown",
     "metadata": {},
     "source": [
      "### 1st goal: specify rules for targets/requirements matching pattern, rather than one per output file"
     ]
    },
    {
     "cell_type": "code",
     "collapsed": false,
     "input": [
      "cat Makefile1"
     ],
     "language": "python",
     "metadata": {},
     "outputs": [
      {
       "output_type": "stream",
       "stream": "stdout",
       "text": [
        "all : filesystem1/2003/feb/data.output filesystem1/2004/march/data.output\r\n",
        "\r\n",
        "%.output : %.input\r\n",
        "\tcp $< $@\r\n",
        "\r\n"
       ]
      }
     ],
     "prompt_number": 19
    },
    {
     "cell_type": "raw",
     "metadata": {},
     "source": [
      "Explanation:\n",
      "    * first target (conventionally named \"all\") is built by default\n",
      "    * format is: \"target : deps\"; indented lines afterwards are the recipe (in sh syntax)\n",
      "    * \"%\" does pattern matching\n",
      "    * \"$<\" evaluated to first prerequisite\n",
      "    * \"$*\" evaluates to the target name"
     ]
    },
    {
     "cell_type": "code",
     "collapsed": false,
     "input": [
      "%%bash\n",
      "make -n -f Makefile1"
     ],
     "language": "python",
     "metadata": {},
     "outputs": [
      {
       "output_type": "stream",
       "stream": "stdout",
       "text": [
        "cp filesystem1/2003/feb/data.input filesystem1/2003/feb/data.output\n",
        "cp filesystem1/2004/march/data.input filesystem1/2004/march/data.output\n"
       ]
      }
     ],
     "prompt_number": 20
    },
    {
     "cell_type": "raw",
     "metadata": {},
     "source": [
      "Explanation:\n",
      "    * The \"-n\" here only prints the commands that would be executed, rather than actually doing so\n",
      "    * \"-f Makefile1\" tells make to run make on Makefile1, which isn't one of the auto-detected patterns (makefile, Makefile, ??)"
     ]
    },
    {
     "cell_type": "markdown",
     "metadata": {},
     "source": [
      "### 2nd goal: Rather than the default target (all), specify target(s) on the command line"
     ]
    },
    {
     "cell_type": "code",
     "collapsed": false,
     "input": [
      "%%bash\n",
      "make -n -f Makefile1 filesystem1/2003/jan/data.output"
     ],
     "language": "python",
     "metadata": {},
     "outputs": [
      {
       "output_type": "stream",
       "stream": "stdout",
       "text": [
        "cp filesystem1/2003/jan/data.input filesystem1/2003/jan/data.output\n"
       ]
      }
     ],
     "prompt_number": 21
    },
    {
     "cell_type": "raw",
     "metadata": {},
     "source": [
      "OK, now what about having the target be all files matching a given glob? Or the result of a bash command?\n",
      "I'm not sure how to do it w/in the makefile, but doing it on the command line actually makes more sense for my workflow:"
     ]
    },
    {
     "cell_type": "code",
     "collapsed": false,
     "input": [
      "%%bash\n",
      "make -n -f Makefile1 `echo filesystem1/*/jan/*.input | sed s/'.input'/'.output'/g`"
     ],
     "language": "python",
     "metadata": {},
     "outputs": [
      {
       "output_type": "stream",
       "stream": "stdout",
       "text": [
        "cp filesystem1/2003/jan/data.input filesystem1/2003/jan/data.output\n",
        "cp filesystem1/2004/jan/data.input filesystem1/2004/jan/data.output\n",
        "cp filesystem1/2005/jan/data.input filesystem1/2005/jan/data.output\n"
       ]
      }
     ],
     "prompt_number": 22
    },
    {
     "cell_type": "raw",
     "metadata": {},
     "source": [
      "Now, let's try with a space-separated input file:"
     ]
    },
    {
     "cell_type": "code",
     "collapsed": false,
     "input": [
      "%%bash\n",
      "echo filesystem1/*/jan/*.input | sed s/'.input'/'.output'/g > tmp.spaces\n",
      "cat tmp.spaces"
     ],
     "language": "python",
     "metadata": {},
     "outputs": [
      {
       "output_type": "stream",
       "stream": "stdout",
       "text": [
        "filesystem1/2003/jan/data.output filesystem1/2004/jan/data.output filesystem1/2005/jan/data.output\n"
       ]
      }
     ],
     "prompt_number": 23
    },
    {
     "cell_type": "code",
     "collapsed": false,
     "input": [
      "%%bash\n",
      "make -n -f Makefile1 `cat tmp.spaces`"
     ],
     "language": "python",
     "metadata": {},
     "outputs": [
      {
       "output_type": "stream",
       "stream": "stdout",
       "text": [
        "cp filesystem1/2003/jan/data.input filesystem1/2003/jan/data.output\n",
        "cp filesystem1/2004/jan/data.input filesystem1/2004/jan/data.output\n",
        "cp filesystem1/2005/jan/data.input filesystem1/2005/jan/data.output\n"
       ]
      }
     ],
     "prompt_number": 24
    },
    {
     "cell_type": "raw",
     "metadata": {},
     "source": [
      "... and, with filenames on diff rows"
     ]
    },
    {
     "cell_type": "code",
     "collapsed": false,
     "input": [
      "%%bash\n",
      "echo filesystem1/*/jan/*.input | sed s/'.input'/'.output'/g | sed 's/ /\\'$'\\n/g' > tmp.lines\n",
      "cat tmp.lines"
     ],
     "language": "python",
     "metadata": {},
     "outputs": [
      {
       "output_type": "stream",
       "stream": "stdout",
       "text": [
        "filesystem1/2003/jan/data.output\n",
        "filesystem1/2004/jan/data.output\n",
        "filesystem1/2005/jan/data.output\n"
       ]
      }
     ],
     "prompt_number": 25
    },
    {
     "cell_type": "code",
     "collapsed": false,
     "input": [
      "%%bash\n",
      "make -n -f Makefile1 `cat tmp.lines`"
     ],
     "language": "python",
     "metadata": {},
     "outputs": [
      {
       "output_type": "stream",
       "stream": "stdout",
       "text": [
        "cp filesystem1/2003/jan/data.input filesystem1/2003/jan/data.output\n",
        "cp filesystem1/2004/jan/data.input filesystem1/2004/jan/data.output\n",
        "cp filesystem1/2005/jan/data.input filesystem1/2005/jan/data.output\n"
       ]
      }
     ],
     "prompt_number": 26
    },
    {
     "cell_type": "raw",
     "metadata": {},
     "source": [
      "Yay! that worked exactly like I'd hoped, and matches my usual workflow, where I want to reprocess a subset of the data, specified by a single bash command, often involving `pst_from_flight.sh ICP4 | grep \"GL\"` "
     ]
    },
    {
     "cell_type": "raw",
     "metadata": {},
     "source": [
      "Alternatively, we can specify the glob and substitution rule within the makefile. For this example, we want to process the data for January, but not feb or march. "
     ]
    },
    {
     "cell_type": "code",
     "collapsed": false,
     "input": [
      "cat Makefile2"
     ],
     "language": "python",
     "metadata": {},
     "outputs": [
      {
       "output_type": "stream",
       "stream": "stdout",
       "text": [
        "jan_input = $(wildcard */*/jan/*)\r\n",
        "jan_output = $(patsubst %.input,%.output, $(jan_input))\r\n",
        "all : $(jan_output)\r\n",
        "\r\n",
        "%.output : %.input \r\n",
        "\tcp $< $@\r\n"
       ]
      }
     ],
     "prompt_number": 27
    },
    {
     "cell_type": "code",
     "collapsed": false,
     "input": [
      "%%bash\n",
      "make -n -f Makefile2"
     ],
     "language": "python",
     "metadata": {},
     "outputs": [
      {
       "output_type": "stream",
       "stream": "stdout",
       "text": [
        "cp filesystem1/2003/jan/data.input filesystem1/2003/jan/data.output\n",
        "cp filesystem1/2004/jan/data.input filesystem1/2004/jan/data.output\n",
        "cp filesystem1/2005/jan/data.input filesystem1/2005/jan/data.output\n"
       ]
      }
     ],
     "prompt_number": 28
    },
    {
     "cell_type": "markdown",
     "metadata": {},
     "source": [
      "### 3rd goal: targets with multiple input dependencies, each with different pattern"
     ]
    },
    {
     "cell_type": "raw",
     "metadata": {},
     "source": [
      "For example - $year/$month/data.output depends on $year/$month/data.input, $year/stats.txt, $month.dat"
     ]
    },
    {
     "cell_type": "raw",
     "metadata": {},
     "source": [
      "We'll need to create a new filesystem for this one:"
     ]
    },
    {
     "cell_type": "code",
     "collapsed": false,
     "input": [
      "cat setup_filesystem2.sh"
     ],
     "language": "python",
     "metadata": {},
     "outputs": [
      {
       "output_type": "stream",
       "stream": "stdout",
       "text": [
        "#! /usr/bin/env bash\r\n",
        "\r\n",
        "fs=filesystem2\r\n",
        "mkdir -p $fs\r\n",
        "\r\n",
        "for year in 2003 2004 2005; do\r\n",
        "    mkdir -p $fs/$year\r\n",
        "    \r\n",
        "    for month in jan feb march; do\r\n",
        "\tmkdir -p $fs/$year/$month\r\n",
        "\ttouch $fs/$year/$month/data.input\r\n",
        "\ttouch $fs/$month.dat\r\n",
        "    done\r\n",
        "    \r\n",
        "    touch $fs/$year/stats.txt\r\n",
        "done\r\n",
        "\r\n"
       ]
      }
     ],
     "prompt_number": 30
    },
    {
     "cell_type": "code",
     "collapsed": false,
     "input": [
      "%%bash\n",
      "./setup_filesystem2.sh\n",
      "tree filesystem2"
     ],
     "language": "python",
     "metadata": {},
     "outputs": [
      {
       "output_type": "stream",
       "stream": "stdout",
       "text": [
        "filesystem2\n",
        "\u251c\u2500\u2500 2003\n",
        "\u2502\u00a0\u00a0 \u251c\u2500\u2500 feb\n",
        "\u2502\u00a0\u00a0 \u2502\u00a0\u00a0 \u2514\u2500\u2500 data.input\n",
        "\u2502\u00a0\u00a0 \u251c\u2500\u2500 jan\n",
        "\u2502\u00a0\u00a0 \u2502\u00a0\u00a0 \u2514\u2500\u2500 data.input\n",
        "\u2502\u00a0\u00a0 \u251c\u2500\u2500 march\n",
        "\u2502\u00a0\u00a0 \u2502\u00a0\u00a0 \u2514\u2500\u2500 data.input\n",
        "\u2502\u00a0\u00a0 \u2514\u2500\u2500 stats.txt\n",
        "\u251c\u2500\u2500 2004\n",
        "\u2502\u00a0\u00a0 \u251c\u2500\u2500 feb\n",
        "\u2502\u00a0\u00a0 \u2502\u00a0\u00a0 \u2514\u2500\u2500 data.input\n",
        "\u2502\u00a0\u00a0 \u251c\u2500\u2500 jan\n",
        "\u2502\u00a0\u00a0 \u2502\u00a0\u00a0 \u2514\u2500\u2500 data.input\n",
        "\u2502\u00a0\u00a0 \u251c\u2500\u2500 march\n",
        "\u2502\u00a0\u00a0 \u2502\u00a0\u00a0 \u2514\u2500\u2500 data.input\n",
        "\u2502\u00a0\u00a0 \u2514\u2500\u2500 stats.txt\n",
        "\u251c\u2500\u2500 2005\n",
        "\u2502\u00a0\u00a0 \u251c\u2500\u2500 feb\n",
        "\u2502\u00a0\u00a0 \u2502\u00a0\u00a0 \u2514\u2500\u2500 data.input\n",
        "\u2502\u00a0\u00a0 \u251c\u2500\u2500 jan\n",
        "\u2502\u00a0\u00a0 \u2502\u00a0\u00a0 \u2514\u2500\u2500 data.input\n",
        "\u2502\u00a0\u00a0 \u251c\u2500\u2500 march\n",
        "\u2502\u00a0\u00a0 \u2502\u00a0\u00a0 \u2514\u2500\u2500 data.input\n",
        "\u2502\u00a0\u00a0 \u2514\u2500\u2500 stats.txt\n",
        "\u251c\u2500\u2500 feb.dat\n",
        "\u251c\u2500\u2500 jan.dat\n",
        "\u2514\u2500\u2500 march.dat\n",
        "\n",
        "12 directories, 15 files\n"
       ]
      }
     ],
     "prompt_number": 32
    },
    {
     "cell_type": "raw",
     "metadata": {},
     "source": [
      "And now, a makefile where $year/$month/data.output depends on $year/$month/data.input, $year/stats.txt, $month.dat"
     ]
    },
    {
     "cell_type": "code",
     "collapsed": false,
     "input": [
      "%%bash\n",
      "make -n -f Makefile3"
     ],
     "language": "python",
     "metadata": {},
     "outputs": [
      {
       "output_type": "stream",
       "stream": "stderr",
       "text": [
        "make: *** No rule to make target `filesystem1/2003/feb/data.output', needed by `all'.  Stop.\n"
       ]
      }
     ],
     "prompt_number": 118
    },
    {
     "cell_type": "raw",
     "metadata": {},
     "source": [
      "http://locklessinc.com/articles/makefile_tricks/ \n",
      "suggests that we can use $(call ...) to run a fuction to determine dependencies, but I can't make it work ... \n",
      "http://stackoverflow.com/questions/8025766/makefile-auto-dependency-generation\n",
      "suggested defining thedat=$(patsubst %.o,%.c,$@) and using $(thedat) as a dependency ... doesn't work either\n",
      "http://mad-scientist.net/make/autodep.html\n",
      "Ah! wind up creating an intermediate file that has the dependency information ... then including it in the makefile. "
     ]
    }
   ],
   "metadata": {}
  }
 ]
}