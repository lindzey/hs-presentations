{
 "metadata": {
  "name": "testing_make"
 },
 "nbformat": 3,
 "nbformat_minor": 0,
 "worksheets": [
  {
   "cells": [
    {
     "cell_type": "code",
     "collapsed": false,
     "input": [
      "%%bash\n",
      "echo $WAIS/targ/tpro/* | sed 's/ /\\'$'\\n/g'\n",
      "pwd"
     ],
     "language": "python",
     "metadata": {},
     "outputs": [
      {
       "output_type": "stream",
       "stream": "stdout",
       "text": [
        "/Users/lindzey/Documents/UTIG/WAIS/targ/tpro/ASB\n",
        "/Users/lindzey/Documents/UTIG/WAIS/targ/tpro/GLAS\n",
        "/Users/lindzey/Documents/UTIG/WAIS/targ/tpro/ICP3\n",
        "/Users/lindzey/Documents/UTIG/WAIS/targ/tpro/NWZ\n",
        "/Users/lindzey/Documents/UTIG/WAIS/targ/tpro/WSB\n",
        "/Users/lindzey/Documents/HackerSchool/Presentations/Makefiles\n"
       ]
      }
     ],
     "prompt_number": 1
    },
    {
     "cell_type": "raw",
     "metadata": {},
     "source": [
      "I've gotten sick of running all steps in a data processing pipeline by hand; make seems like it solves the exact same problem (but usually for code). So, I'm trying to figure out how to get it to do everything that my hodge-podge of bash scripts does. \n",
      "\n",
      "None of this will be in python, but thanks to ipython's \"%%bash\" magic, I can still use ipython notebook =)"
     ]
    },
    {
     "cell_type": "raw",
     "metadata": {},
     "source": [
      "Wishlist:\n",
      "    * specify rules for all files matching a given pattern\n",
      "    * load list of targets from external file\n",
      "    * handle pulling data from multiple sources, each with diff rule for figuring out filename\n",
      "    * continue if build fails (we'll often have missing files - just want to output a warning and move along)\n",
      "    * rebuild data files if source data OR code changed\n",
      "    * run steps in parallel    \n",
      "    * have dependencies specified by shell commands rather than make's limited pattern substitution"
     ]
    },
    {
     "cell_type": "raw",
     "metadata": {},
     "source": [
      "First, we need to set up a toy filesystem to test on ..."
     ]
    },
    {
     "cell_type": "code",
     "collapsed": false,
     "input": [
      "cat setup_filesystem1.sh"
     ],
     "language": "python",
     "metadata": {},
     "outputs": [
      {
       "output_type": "stream",
       "stream": "stdout",
       "text": [
        "#! /usr/bin/env bash\r\n",
        "\r\n",
        "fs=filesystem1\r\n",
        "mkdir -p $fs\r\n",
        "\r\n",
        "for year in 2003 2004 2005; do\r\n",
        "    mkdir -p $fs/$year\r\n",
        "    \r\n",
        "    for month in jan feb march; do\r\n",
        "\tmkdir -p $fs/$year/$month\r\n",
        "\ttouch $fs/$year/$month/data.input\r\n",
        "    done\r\n",
        "    \r\n",
        "    mkdir -p $fs/data\r\n",
        "    for num in 1 2 3 4 5; do\r\n",
        "\ttouch $fs/data/data_$num.txt\r\n",
        "    done\r\n",
        "\r\n",
        "done\r\n"
       ]
      }
     ],
     "prompt_number": 2
    },
    {
     "cell_type": "code",
     "collapsed": false,
     "input": [
      "%%bash\n",
      "./setup_filesystem1.sh\n",
      "tree filesystem1  # I installed tree from http://mama.indstate.edu/users/ice/tree/"
     ],
     "language": "python",
     "metadata": {},
     "outputs": [
      {
       "output_type": "stream",
       "stream": "stdout",
       "text": [
        "filesystem1\n",
        "\u251c\u2500\u2500 2003\n",
        "\u2502\u00a0\u00a0 \u251c\u2500\u2500 feb\n",
        "\u2502\u00a0\u00a0 \u2502\u00a0\u00a0 \u2514\u2500\u2500 data.input\n",
        "\u2502\u00a0\u00a0 \u251c\u2500\u2500 jan\n",
        "\u2502\u00a0\u00a0 \u2502\u00a0\u00a0 \u2514\u2500\u2500 data.input\n",
        "\u2502\u00a0\u00a0 \u2514\u2500\u2500 march\n",
        "\u2502\u00a0\u00a0     \u2514\u2500\u2500 data.input\n",
        "\u251c\u2500\u2500 2004\n",
        "\u2502\u00a0\u00a0 \u251c\u2500\u2500 feb\n",
        "\u2502\u00a0\u00a0 \u2502\u00a0\u00a0 \u2514\u2500\u2500 data.input\n",
        "\u2502\u00a0\u00a0 \u251c\u2500\u2500 jan\n",
        "\u2502\u00a0\u00a0 \u2502\u00a0\u00a0 \u2514\u2500\u2500 data.input\n",
        "\u2502\u00a0\u00a0 \u2514\u2500\u2500 march\n",
        "\u2502\u00a0\u00a0     \u2514\u2500\u2500 data.input\n",
        "\u2514\u2500\u2500 2005\n",
        "    \u251c\u2500\u2500 feb\n",
        "    \u2502\u00a0\u00a0 \u2514\u2500\u2500 data.input\n",
        "    \u251c\u2500\u2500 jan\n",
        "    \u2502\u00a0\u00a0 \u2514\u2500\u2500 data.input\n",
        "    \u2514\u2500\u2500 march\n",
        "        \u2514\u2500\u2500 data.input\n",
        "\n",
        "12 directories, 9 files\n"
       ]
      }
     ],
     "prompt_number": 18
    },
    {
     "cell_type": "markdown",
     "metadata": {},
     "source": [
      "### 1st goal: specify rules for targets/requirements matching pattern, rather than one per output file"
     ]
    },
    {
     "cell_type": "code",
     "collapsed": false,
     "input": [
      "cat Makefile1"
     ],
     "language": "python",
     "metadata": {},
     "outputs": [
      {
       "output_type": "stream",
       "stream": "stdout",
       "text": [
        "all : filesystem1/2003/feb/data.output filesystem1/2004/march/data.output\r\n",
        "\r\n",
        "%.output : %.input\r\n",
        "\tcp $< $@\r\n",
        "\r\n"
       ]
      }
     ],
     "prompt_number": 19
    },
    {
     "cell_type": "raw",
     "metadata": {},
     "source": [
      "Explanation:\n",
      "    * first target (conventionally named \"all\") is built by default\n",
      "    * format is: \"target : deps\"; indented lines afterwards are the recipe (in sh syntax)\n",
      "    * \"%\" does pattern matching\n",
      "    * \"$<\" evaluated to first prerequisite\n",
      "    * \"$*\" evaluates to the target name"
     ]
    },
    {
     "cell_type": "code",
     "collapsed": false,
     "input": [
      "%%bash\n",
      "make -n -f Makefile1"
     ],
     "language": "python",
     "metadata": {},
     "outputs": [
      {
       "output_type": "stream",
       "stream": "stdout",
       "text": [
        "cp filesystem1/2003/feb/data.input filesystem1/2003/feb/data.output\n",
        "cp filesystem1/2004/march/data.input filesystem1/2004/march/data.output\n"
       ]
      }
     ],
     "prompt_number": 20
    },
    {
     "cell_type": "raw",
     "metadata": {},
     "source": [
      "Explanation:\n",
      "    * The \"-n\" here only prints the commands that would be executed, rather than actually doing so\n",
      "    * \"-f Makefile1\" tells make to run make on Makefile1, which isn't one of the auto-detected patterns (makefile, Makefile, ??)"
     ]
    },
    {
     "cell_type": "markdown",
     "metadata": {},
     "source": [
      "### 2nd goal: Rather than the default target (all), specify target(s) on the command line"
     ]
    },
    {
     "cell_type": "code",
     "collapsed": false,
     "input": [
      "%%bash\n",
      "make -n -f Makefile1 filesystem1/2003/jan/data.output"
     ],
     "language": "python",
     "metadata": {},
     "outputs": [
      {
       "output_type": "stream",
       "stream": "stdout",
       "text": [
        "cp filesystem1/2003/jan/data.input filesystem1/2003/jan/data.output\n"
       ]
      }
     ],
     "prompt_number": 21
    },
    {
     "cell_type": "raw",
     "metadata": {},
     "source": [
      "OK, now what about having the target be all files matching a given glob? Or the result of a bash command?\n",
      "I'm not sure how to do it w/in the makefile, but doing it on the command line actually makes more sense for my workflow:"
     ]
    },
    {
     "cell_type": "code",
     "collapsed": false,
     "input": [
      "%%bash\n",
      "make -n -f Makefile1 `echo filesystem1/*/jan/*.input | sed s/'.input'/'.output'/g`"
     ],
     "language": "python",
     "metadata": {},
     "outputs": [
      {
       "output_type": "stream",
       "stream": "stdout",
       "text": [
        "cp filesystem1/2003/jan/data.input filesystem1/2003/jan/data.output\n",
        "cp filesystem1/2004/jan/data.input filesystem1/2004/jan/data.output\n",
        "cp filesystem1/2005/jan/data.input filesystem1/2005/jan/data.output\n"
       ]
      }
     ],
     "prompt_number": 22
    },
    {
     "cell_type": "raw",
     "metadata": {},
     "source": [
      "Now, let's try with a space-separated input file:"
     ]
    },
    {
     "cell_type": "code",
     "collapsed": false,
     "input": [
      "%%bash\n",
      "echo filesystem1/*/jan/*.input | sed s/'.input'/'.output'/g > tmp.spaces\n",
      "cat tmp.spaces"
     ],
     "language": "python",
     "metadata": {},
     "outputs": [
      {
       "output_type": "stream",
       "stream": "stdout",
       "text": [
        "filesystem1/2003/jan/data.output filesystem1/2004/jan/data.output filesystem1/2005/jan/data.output\n"
       ]
      }
     ],
     "prompt_number": 23
    },
    {
     "cell_type": "code",
     "collapsed": false,
     "input": [
      "%%bash\n",
      "make -n -f Makefile1 `cat tmp.spaces`"
     ],
     "language": "python",
     "metadata": {},
     "outputs": [
      {
       "output_type": "stream",
       "stream": "stdout",
       "text": [
        "cp filesystem1/2003/jan/data.input filesystem1/2003/jan/data.output\n",
        "cp filesystem1/2004/jan/data.input filesystem1/2004/jan/data.output\n",
        "cp filesystem1/2005/jan/data.input filesystem1/2005/jan/data.output\n"
       ]
      }
     ],
     "prompt_number": 24
    },
    {
     "cell_type": "raw",
     "metadata": {},
     "source": [
      "... and, with filenames on diff rows"
     ]
    },
    {
     "cell_type": "code",
     "collapsed": false,
     "input": [
      "%%bash\n",
      "echo filesystem1/*/jan/*.input | sed s/'.input'/'.output'/g | sed 's/ /\\'$'\\n/g' > tmp.lines\n",
      "cat tmp.lines"
     ],
     "language": "python",
     "metadata": {},
     "outputs": [
      {
       "output_type": "stream",
       "stream": "stdout",
       "text": [
        "filesystem1/2003/jan/data.output\n",
        "filesystem1/2004/jan/data.output\n",
        "filesystem1/2005/jan/data.output\n"
       ]
      }
     ],
     "prompt_number": 25
    },
    {
     "cell_type": "code",
     "collapsed": false,
     "input": [
      "%%bash\n",
      "make -n -f Makefile1 `cat tmp.lines`"
     ],
     "language": "python",
     "metadata": {},
     "outputs": [
      {
       "output_type": "stream",
       "stream": "stdout",
       "text": [
        "cp filesystem1/2003/jan/data.input filesystem1/2003/jan/data.output\n",
        "cp filesystem1/2004/jan/data.input filesystem1/2004/jan/data.output\n",
        "cp filesystem1/2005/jan/data.input filesystem1/2005/jan/data.output\n"
       ]
      }
     ],
     "prompt_number": 26
    },
    {
     "cell_type": "raw",
     "metadata": {},
     "source": [
      "Yay! that worked exactly like I'd hoped, and matches my usual workflow, where I want to reprocess a subset of the data, specified by a single bash command, often involving `pst_from_flight.sh ICP4 | grep \"GL\"` "
     ]
    },
    {
     "cell_type": "raw",
     "metadata": {},
     "source": [
      "Alternatively, we can specify the glob and substitution rule within the makefile. For this example, we want to process the data for January, but not feb or march. "
     ]
    },
    {
     "cell_type": "code",
     "collapsed": false,
     "input": [
      "cat Makefile2"
     ],
     "language": "python",
     "metadata": {},
     "outputs": [
      {
       "output_type": "stream",
       "stream": "stdout",
       "text": [
        "jan_input = $(wildcard */*/jan/*)\r\n",
        "jan_output = $(patsubst %.input,%.output, $(jan_input))\r\n",
        "all : $(jan_output)\r\n",
        "\r\n",
        "%.output : %.input \r\n",
        "\tcp $< $@\r\n"
       ]
      }
     ],
     "prompt_number": 27
    },
    {
     "cell_type": "code",
     "collapsed": false,
     "input": [
      "%%bash\n",
      "make -n -f Makefile2"
     ],
     "language": "python",
     "metadata": {},
     "outputs": [
      {
       "output_type": "stream",
       "stream": "stdout",
       "text": [
        "cp filesystem1/2003/jan/data.input filesystem1/2003/jan/data.output\n",
        "cp filesystem1/2004/jan/data.input filesystem1/2004/jan/data.output\n",
        "cp filesystem1/2005/jan/data.input filesystem1/2005/jan/data.output\n"
       ]
      }
     ],
     "prompt_number": 28
    },
    {
     "cell_type": "markdown",
     "metadata": {},
     "source": [
      "### 3rd goal: targets with multiple input dependencies, each with different pattern - STILL BROKEN"
     ]
    },
    {
     "cell_type": "raw",
     "metadata": {},
     "source": [
      "For example - $year/$month/data.output depends on $year/$month/data.input, $year/stats.txt, $month.dat"
     ]
    },
    {
     "cell_type": "raw",
     "metadata": {},
     "source": [
      "We'll need to create a new filesystem for this one:"
     ]
    },
    {
     "cell_type": "code",
     "collapsed": false,
     "input": [
      "cat setup_filesystem2.sh"
     ],
     "language": "python",
     "metadata": {},
     "outputs": [
      {
       "output_type": "stream",
       "stream": "stdout",
       "text": [
        "#! /usr/bin/env bash\r\n",
        "\r\n",
        "fs=filesystem2\r\n",
        "mkdir -p $fs\r\n",
        "\r\n",
        "for year in 2003 2004 2005; do\r\n",
        "    mkdir -p $fs/$year\r\n",
        "    \r\n",
        "    for month in jan feb march; do\r\n",
        "\tmkdir -p $fs/$year/$month\r\n",
        "\ttouch $fs/$year/$month/data.input\r\n",
        "\ttouch $fs/$month.dat\r\n",
        "    done\r\n",
        "    \r\n",
        "    touch $fs/$year/stats.txt\r\n",
        "done\r\n",
        "\r\n"
       ]
      }
     ],
     "prompt_number": 30
    },
    {
     "cell_type": "code",
     "collapsed": false,
     "input": [
      "%%bash\n",
      "./setup_filesystem2.sh\n",
      "tree filesystem2"
     ],
     "language": "python",
     "metadata": {},
     "outputs": [
      {
       "output_type": "stream",
       "stream": "stdout",
       "text": [
        "filesystem2\n",
        "\u251c\u2500\u2500 2003\n",
        "\u2502\u00a0\u00a0 \u251c\u2500\u2500 feb\n",
        "\u2502\u00a0\u00a0 \u2502\u00a0\u00a0 \u2514\u2500\u2500 data.input\n",
        "\u2502\u00a0\u00a0 \u251c\u2500\u2500 jan\n",
        "\u2502\u00a0\u00a0 \u2502\u00a0\u00a0 \u2514\u2500\u2500 data.input\n",
        "\u2502\u00a0\u00a0 \u251c\u2500\u2500 march\n",
        "\u2502\u00a0\u00a0 \u2502\u00a0\u00a0 \u2514\u2500\u2500 data.input\n",
        "\u2502\u00a0\u00a0 \u2514\u2500\u2500 stats.txt\n",
        "\u251c\u2500\u2500 2004\n",
        "\u2502\u00a0\u00a0 \u251c\u2500\u2500 feb\n",
        "\u2502\u00a0\u00a0 \u2502\u00a0\u00a0 \u2514\u2500\u2500 data.input\n",
        "\u2502\u00a0\u00a0 \u251c\u2500\u2500 jan\n",
        "\u2502\u00a0\u00a0 \u2502\u00a0\u00a0 \u2514\u2500\u2500 data.input\n",
        "\u2502\u00a0\u00a0 \u251c\u2500\u2500 march\n",
        "\u2502\u00a0\u00a0 \u2502\u00a0\u00a0 \u2514\u2500\u2500 data.input\n",
        "\u2502\u00a0\u00a0 \u2514\u2500\u2500 stats.txt\n",
        "\u251c\u2500\u2500 2005\n",
        "\u2502\u00a0\u00a0 \u251c\u2500\u2500 feb\n",
        "\u2502\u00a0\u00a0 \u2502\u00a0\u00a0 \u2514\u2500\u2500 data.input\n",
        "\u2502\u00a0\u00a0 \u251c\u2500\u2500 jan\n",
        "\u2502\u00a0\u00a0 \u2502\u00a0\u00a0 \u2514\u2500\u2500 data.input\n",
        "\u2502\u00a0\u00a0 \u251c\u2500\u2500 march\n",
        "\u2502\u00a0\u00a0 \u2502\u00a0\u00a0 \u2514\u2500\u2500 data.input\n",
        "\u2502\u00a0\u00a0 \u2514\u2500\u2500 stats.txt\n",
        "\u251c\u2500\u2500 feb.dat\n",
        "\u251c\u2500\u2500 jan.dat\n",
        "\u2514\u2500\u2500 march.dat\n",
        "\n",
        "12 directories, 15 files\n"
       ]
      }
     ],
     "prompt_number": 32
    },
    {
     "cell_type": "raw",
     "metadata": {},
     "source": [
      "And now, a makefile where $year/$month/data.output depends on $year/$month/data.input, $year/stats.txt, $month.dat"
     ]
    },
    {
     "cell_type": "code",
     "collapsed": false,
     "input": [
      "cat Makefile3"
     ],
     "language": "python",
     "metadata": {},
     "outputs": [
      {
       "output_type": "stream",
       "stream": "stdout",
       "text": [
        "all : filesystem1/2003/feb/data.output filesystem1/2004/march/data.output\r\n",
        "\r\n",
        "# $year/$month/data.output depends on \r\n",
        "#\t* $year/$month/data.input\r\n",
        "#\t* $year/stats.txt\r\n",
        "#\t* $month.dat\r\n",
        "\r\n",
        "\r\n",
        "#dat_rule = $(patsub %.output,%.dat,$(1))\r\n",
        "dat_rule = $(sed s/'.output'/'.foo'/g)\r\n",
        "\r\n",
        "\r\n",
        "THE_DAT=$(patsubst, %/data.output,%.dat,$@)\r\n",
        "#%.output : %.data\r\n",
        "%/data.output : $(THE_DAT)\r\n",
        "\t@echo $<\r\n",
        "\t$(THE_DAT)\r\n"
       ]
      }
     ],
     "prompt_number": 146
    },
    {
     "cell_type": "code",
     "collapsed": false,
     "input": [
      "%%bash\n",
      "make -n -f Makefile3"
     ],
     "language": "python",
     "metadata": {},
     "outputs": [
      {
       "output_type": "stream",
       "stream": "stdout",
       "text": [
        "echo \n",
        "echo \n"
       ]
      }
     ],
     "prompt_number": 150
    },
    {
     "cell_type": "raw",
     "metadata": {},
     "source": [
      "http://locklessinc.com/articles/makefile_tricks/ \n",
      "suggests that we can use $(call ...) to run a fuction to determine dependencies, but I can't make it work ... \n",
      "http://stackoverflow.com/questions/8025766/makefile-auto-dependency-generation\n",
      "suggested defining thedat=$(patsubst %.o,%.c,$@) and using $(thedat) as a dependency ... doesn't work either\n",
      "http://mad-scientist.net/make/autodep.html\n",
      "Ah! wind up creating an intermediate file that has the dependency information ... then including it in the makefile. "
     ]
    },
    {
     "cell_type": "markdown",
     "metadata": {},
     "source": [
      "#### Demonstrating that it's possible to use glob more selectively"
     ]
    },
    {
     "cell_type": "code",
     "collapsed": false,
     "input": [
      "cat Makefile4"
     ],
     "language": "python",
     "metadata": {},
     "outputs": [
      {
       "output_type": "stream",
       "stream": "stdout",
       "text": [
        "foo_%.output : filesystem1/%/march/data.input\r\n",
        "\tcp $< $@\r\n"
       ]
      }
     ],
     "prompt_number": 152
    },
    {
     "cell_type": "code",
     "collapsed": false,
     "input": [
      "%%bash\n",
      "make -n -f Makefile4 foo_2003.output"
     ],
     "language": "python",
     "metadata": {},
     "outputs": [
      {
       "output_type": "stream",
       "stream": "stdout",
       "text": [
        "cp filesystem1/2003/march/data.input foo_2003.output\n"
       ]
      }
     ],
     "prompt_number": 153
    },
    {
     "cell_type": "markdown",
     "metadata": {},
     "source": [
      "### Use contents of a file as dependency list"
     ]
    },
    {
     "cell_type": "code",
     "collapsed": false,
     "input": [
      "%%bash\n",
      "./setup_filesystem3.sh"
     ],
     "language": "python",
     "metadata": {},
     "outputs": [],
     "prompt_number": 144
    },
    {
     "cell_type": "code",
     "collapsed": false,
     "input": [
      "%%bash\n",
      "tree filesystem3"
     ],
     "language": "python",
     "metadata": {},
     "outputs": [
      {
       "output_type": "stream",
       "stream": "stdout",
       "text": [
        "filesystem3\n",
        "\u251c\u2500\u2500 bar.input\n",
        "\u251c\u2500\u2500 baz.input\n",
        "\u2514\u2500\u2500 foo.input\n",
        "\n",
        "0 directories, 3 files\n"
       ]
      }
     ],
     "prompt_number": 145
    },
    {
     "cell_type": "code",
     "collapsed": false,
     "input": [
      "cat Makefile5"
     ],
     "language": "python",
     "metadata": {},
     "outputs": [
      {
       "output_type": "stream",
       "stream": "stdout",
       "text": [
        "filesystem3/foo.output : $(shell cat makefile5.list)\r\n",
        "\t cp $< $@\r\n"
       ]
      }
     ],
     "prompt_number": 146
    },
    {
     "cell_type": "raw",
     "metadata": {},
     "source": [
      "Yay! that was easy."
     ]
    },
    {
     "cell_type": "code",
     "collapsed": false,
     "input": [
      "cat makefile5.list"
     ],
     "language": "python",
     "metadata": {},
     "outputs": [
      {
       "output_type": "stream",
       "stream": "stdout",
       "text": [
        "filesystem3/foo.input\r\n"
       ]
      }
     ],
     "prompt_number": 147
    },
    {
     "cell_type": "code",
     "collapsed": false,
     "input": [
      "%%bash\n",
      "make -f Makefile5"
     ],
     "language": "python",
     "metadata": {},
     "outputs": [
      {
       "output_type": "stream",
       "stream": "stdout",
       "text": [
        "cp filesystem3/foo.input filesystem3/foo.output\n"
       ]
      }
     ],
     "prompt_number": 40
    },
    {
     "cell_type": "markdown",
     "metadata": {},
     "source": [
      "### Use Target name in dependency shell command"
     ]
    },
    {
     "cell_type": "code",
     "collapsed": false,
     "input": [
      "cat Makefile6"
     ],
     "language": "python",
     "metadata": {},
     "outputs": [
      {
       "output_type": "stream",
       "stream": "stdout",
       "text": [
        "all: filesystem3/foo.output\r\n",
        "\r\n",
        ".SECONDEXPANSION:\r\n",
        "%.output : $$(shell cat $$@.dependency)\r\n",
        "\techo dependencies are: $^\r\n"
       ]
      }
     ],
     "prompt_number": 157
    },
    {
     "cell_type": "raw",
     "metadata": {},
     "source": [
      "Notes:\n",
      "    * The '.SECONDEXPANSION' rule is required in order to substitue the target in for $$@ before calling the shell command"
     ]
    },
    {
     "cell_type": "code",
     "collapsed": false,
     "input": [
      "%%bash\n",
      "echo filesystem3/foo.input filesystem3/bar.input filesystem3/baz.input > filesystem3/foo.output.dependency\n",
      "touch filesystem3/foo.input\n",
      "make -n -f Makefile6"
     ],
     "language": "python",
     "metadata": {},
     "outputs": [
      {
       "output_type": "stream",
       "stream": "stdout",
       "text": [
        "echo dependencies are: filesystem3/foo.input filesystem3/bar.input filesystem3/baz.input\n"
       ]
      }
     ],
     "prompt_number": 158
    },
    {
     "cell_type": "markdown",
     "metadata": {},
     "source": [
      "### Create and then import dependency files "
     ]
    },
    {
     "cell_type": "code",
     "collapsed": false,
     "input": [
      "cat Makefile7"
     ],
     "language": "python",
     "metadata": {},
     "outputs": [
      {
       "output_type": "stream",
       "stream": "stdout",
       "text": [
        "outfiles = $(shell cat makefile7.filelist)\r\n",
        "\r\n",
        "all: ${outfiles}\r\n",
        "\r\n",
        "%.output.d : ;\r\n",
        "\techo $*.output : $*.input > $@\r\n",
        "\r\n",
        "include $(patsubst %,%.d,${outfiles})\r\n",
        "\r\n",
        "%.output : %.output.d\r\n",
        "\t@echo\r\n",
        "\t@echo $@ : $^\r\n",
        "\trm $@.d\t\r\n"
       ]
      }
     ],
     "prompt_number": 215
    },
    {
     "cell_type": "code",
     "collapsed": false,
     "input": [
      "cat makefile7.filelist"
     ],
     "language": "python",
     "metadata": {},
     "outputs": [
      {
       "output_type": "stream",
       "stream": "stdout",
       "text": [
        "filesystem3/foo.output\r\n",
        "filesystem3/bar.output\r\n",
        "filesystem3/baz.output"
       ]
      }
     ],
     "prompt_number": 223
    },
    {
     "cell_type": "raw",
     "metadata": {},
     "source": [
      "Notes:\n",
      "* I'm using the method from the manual for auto-generating dependencies. This gives errors of \"*.d not found\" on the first pass of running the makefile, but it appears to do the right thing despite that. It works by generating a makefile with the dependencies listed, then causing that makefile to be included in the higher-level makefile.\n",
      "* I've switched from passing a list of files in on the command line to expecting them in a file\n",
      "* the '@' before a rule indicates that it won't be echoed when it's run by make\n",
      "* I'm not sure what to do about the file-specific makefiles that are generated automatically ... I'm currently deleting them, so as not to clutter the hierarchy. \n",
      "* running 'make -n' will no longer work, b/c we're generating temp files that are required by the 2nd pass of make"
     ]
    },
    {
     "cell_type": "code",
     "collapsed": false,
     "input": [
      "%%bash\n",
      "touch filesystem3/*.input\n",
      "make -f Makefile7"
     ],
     "language": "python",
     "metadata": {},
     "outputs": [
      {
       "output_type": "stream",
       "stream": "stdout",
       "text": [
        "echo filesystem3/baz.output : filesystem3/baz.input > filesystem3/baz.output.d\n",
        "echo filesystem3/bar.output : filesystem3/bar.input > filesystem3/bar.output.d\n",
        "echo filesystem3/foo.output : filesystem3/foo.input > filesystem3/foo.output.d\n",
        "\n",
        "filesystem3/foo.output : filesystem3/foo.output.d filesystem3/foo.input\n",
        "rm filesystem3/foo.output.d\t\n",
        "\n",
        "filesystem3/bar.output : filesystem3/bar.output.d filesystem3/bar.input\n",
        "rm filesystem3/bar.output.d\t\n",
        "\n",
        "filesystem3/baz.output : filesystem3/baz.output.d filesystem3/baz.input\n",
        "rm filesystem3/baz.output.d\t\n"
       ]
      },
      {
       "output_type": "stream",
       "stream": "stderr",
       "text": [
        "Makefile7:8: filesystem3/foo.output.d: No such file or directory\n",
        "Makefile7:8: filesystem3/bar.output.d: No such file or directory\n",
        "Makefile7:8: filesystem3/baz.output.d: No such file or directory\n"
       ]
      }
     ],
     "prompt_number": 224
    },
    {
     "cell_type": "markdown",
     "metadata": {},
     "source": [
      "### Back to the 3rd goal!"
     ]
    },
    {
     "cell_type": "raw",
     "metadata": {},
     "source": [
      "For example - $year/$month/data.output depends on $year/$month/data.input, $year/stats.txt, $month.dat"
     ]
    },
    {
     "cell_type": "code",
     "collapsed": false,
     "input": [
      "%%bash\n",
      "# creating the output files for the makefile\n",
      "echo filesystem2/*/*/data.input | sed s/'\\.input'/'\\.output'/g > makefile8.filelist\n",
      "cat makefile8.filelist"
     ],
     "language": "python",
     "metadata": {},
     "outputs": [
      {
       "output_type": "stream",
       "stream": "stdout",
       "text": [
        "filesystem2/2003/feb/data.output filesystem2/2003/jan/data.output filesystem2/2003/march/data.output filesystem2/2004/feb/data.output filesystem2/2004/jan/data.output filesystem2/2004/march/data.output filesystem2/2005/feb/data.output filesystem2/2005/jan/data.output filesystem2/2005/march/data.output\n"
       ]
      }
     ],
     "prompt_number": 345
    },
    {
     "cell_type": "code",
     "collapsed": false,
     "input": [
      "cat Makefile8"
     ],
     "language": "python",
     "metadata": {},
     "outputs": [
      {
       "output_type": "stream",
       "stream": "stdout",
       "text": [
        "outfiles = $(shell cat makefile8.filelist)\r\n",
        "all: ${outfiles}\r\n",
        "\r\n",
        "%.output.d : \r\n",
        "\t@export year=$$(basename $$(dirname $$(dirname $*.output))); \\\r\n",
        "\texport month=$$(basename $$(dirname $*.output)); \\\r\n",
        "\texport basedir=$$(dirname $$(dirname $$(dirname $*.output))); \\\r\n",
        "\texport dep1=$${basedir}/$${year}/stats.txt;\\\r\n",
        "\texport dep2=$${basedir}/$${month}.dat; \\\r\n",
        "\techo $*.output : $*.input $${dep1} $${dep2} > $@\r\n",
        "\r\n",
        "include $(patsubst %,%.d,${outfiles})\r\n",
        "\r\n",
        "%.output : %.output.d\r\n",
        "\t@echo\r\n",
        "\t@echo $@ : $^\r\n",
        "\t@rm $@.d\t\r\n"
       ]
      }
     ],
     "prompt_number": 341
    },
    {
     "cell_type": "raw",
     "metadata": {},
     "source": [
      "Notes:\n",
      "    * within the recipe, have to use '$$' for a '$' to get passed to the shell\n",
      "    * use '\\' to ensure that sequential recipe lines are executed in the same shell (it causes them to wrap into one long command)"
     ]
    },
    {
     "cell_type": "code",
     "collapsed": false,
     "input": [
      "%%bash\n",
      "rm filesystem2/*/*/*.d\n",
      "tree filesystem2\n",
      "make -f Makefile8"
     ],
     "language": "python",
     "metadata": {},
     "outputs": [
      {
       "output_type": "stream",
       "stream": "stdout",
       "text": [
        "filesystem2\n",
        "\u251c\u2500\u2500 2003\n",
        "\u2502\u00a0\u00a0 \u251c\u2500\u2500 feb\n",
        "\u2502\u00a0\u00a0 \u2502\u00a0\u00a0 \u2514\u2500\u2500 data.input\n",
        "\u2502\u00a0\u00a0 \u251c\u2500\u2500 jan\n",
        "\u2502\u00a0\u00a0 \u2502\u00a0\u00a0 \u2514\u2500\u2500 data.input\n",
        "\u2502\u00a0\u00a0 \u251c\u2500\u2500 march\n",
        "\u2502\u00a0\u00a0 \u2502\u00a0\u00a0 \u2514\u2500\u2500 data.input\n",
        "\u2502\u00a0\u00a0 \u2514\u2500\u2500 stats.txt\n",
        "\u251c\u2500\u2500 2004\n",
        "\u2502\u00a0\u00a0 \u251c\u2500\u2500 feb\n",
        "\u2502\u00a0\u00a0 \u2502\u00a0\u00a0 \u2514\u2500\u2500 data.input\n",
        "\u2502\u00a0\u00a0 \u251c\u2500\u2500 jan\n",
        "\u2502\u00a0\u00a0 \u2502\u00a0\u00a0 \u2514\u2500\u2500 data.input\n",
        "\u2502\u00a0\u00a0 \u251c\u2500\u2500 march\n",
        "\u2502\u00a0\u00a0 \u2502\u00a0\u00a0 \u2514\u2500\u2500 data.input\n",
        "\u2502\u00a0\u00a0 \u2514\u2500\u2500 stats.txt\n",
        "\u251c\u2500\u2500 2005\n",
        "\u2502\u00a0\u00a0 \u251c\u2500\u2500 feb\n",
        "\u2502\u00a0\u00a0 \u2502\u00a0\u00a0 \u2514\u2500\u2500 data.input\n",
        "\u2502\u00a0\u00a0 \u251c\u2500\u2500 jan\n",
        "\u2502\u00a0\u00a0 \u2502\u00a0\u00a0 \u2514\u2500\u2500 data.input\n",
        "\u2502\u00a0\u00a0 \u251c\u2500\u2500 march\n",
        "\u2502\u00a0\u00a0 \u2502\u00a0\u00a0 \u2514\u2500\u2500 data.input\n",
        "\u2502\u00a0\u00a0 \u2514\u2500\u2500 stats.txt\n",
        "\u251c\u2500\u2500 feb.dat\n",
        "\u251c\u2500\u2500 jan.dat\n",
        "\u2514\u2500\u2500 march.dat\n",
        "\n",
        "12 directories, 15 files\n",
        "\n",
        "filesystem2/2003/feb/data.output : filesystem2/2003/feb/data.output.d filesystem2/2003/feb/data.input filesystem2/2003/stats.txt filesystem2/feb.dat\n"
       ]
      },
      {
       "output_type": "stream",
       "stream": "stderr",
       "text": [
        "rm: filesystem2/*/*/*.d: No such file or directory\n",
        "Makefile8:12: filesystem2/2003/feb/data.output.d: No such file or directory\n"
       ]
      }
     ],
     "prompt_number": 334
    },
    {
     "cell_type": "markdown",
     "metadata": {},
     "source": [
      "#### Can the same thing be done using double expansion?"
     ]
    },
    {
     "cell_type": "code",
     "collapsed": false,
     "input": [
      "cat Makefile9"
     ],
     "language": "python",
     "metadata": {},
     "outputs": [
      {
       "output_type": "stream",
       "stream": "stdout",
       "text": [
        "outfiles = $(shell cat makefile8.filelist)\r\n",
        "all: ${outfiles}\r\n",
        "\r\n",
        ".SECONDEXPANSION:\r\n",
        "%.output : %.input $$(shell dirname $$(shell dirname $$@))/stats.txt\r\n",
        "\t@echo\r\n",
        "\t@echo $@ : $^\r\n"
       ]
      }
     ],
     "prompt_number": 339
    },
    {
     "cell_type": "code",
     "collapsed": false,
     "input": [
      "%%bash\n",
      "make -f Makefile9"
     ],
     "language": "python",
     "metadata": {},
     "outputs": [
      {
       "output_type": "stream",
       "stream": "stdout",
       "text": [
        "\n",
        "filesystem2/2003/feb/data.output : filesystem2/2003/feb/data.input filesystem2/2003/stats.txt\n"
       ]
      }
     ],
     "prompt_number": 340
    },
    {
     "cell_type": "raw",
     "metadata": {},
     "source": [
      "The above works for slightly modifying the input files, but I can't figure out how to do it if it requires chaining shell commands or setting variables."
     ]
    },
    {
     "cell_type": "markdown",
     "metadata": {},
     "source": [
      "### Now, time to prove that all the generated dependencies are actually built ... "
     ]
    },
    {
     "cell_type": "code",
     "collapsed": false,
     "input": [],
     "language": "python",
     "metadata": {},
     "outputs": []
    },
    {
     "cell_type": "markdown",
     "metadata": {},
     "source": [
      "### I want to generate a dot graph of the dependencies for the whole makefile!"
     ]
    },
    {
     "cell_type": "raw",
     "metadata": {},
     "source": [
      "In order to do that, add a variable for the output file at the top:\n",
      "    dotfile = makefile8.dot\n",
      "and for each rule, have the first line of the recipe be:\n",
      "\t@echo $@ : $^ > ${dotfile}\n",
      "The resulting file will contain all of the files processed by the makefile, with the direction of arrows given by what side of the ':' they're on. I can write a quick parser in python to turn this into a dot file, for compilation with graphviz. (Even snazzier would be to have the graph be another target of make... one that automatically didn't run the commands)"
     ]
    },
    {
     "cell_type": "code",
     "collapsed": false,
     "input": [
      "cat Makefile10"
     ],
     "language": "python",
     "metadata": {},
     "outputs": [
      {
       "output_type": "stream",
       "stream": "stdout",
       "text": [
        "outfiles = $(shell cat makefile8.filelist)\r\n",
        "all: ${outfiles}\r\n",
        "\r\n",
        "dotfile = makefile10.txt\r\n",
        "\r\n",
        "%.output.d : \r\n",
        "\t@export year=$$(basename $$(dirname $$(dirname $*.output))); \\\r\n",
        "\texport month=$$(basename $$(dirname $*.output)); \\\r\n",
        "\texport basedir=$$(dirname $$(dirname $$(dirname $*.output))); \\\r\n",
        "\texport dep1=$${basedir}/$${year}/stats.txt;\\\r\n",
        "\texport dep2=$${basedir}/$${month}.dat; \\\r\n",
        "\techo $*.output : $*.input $${dep1} $${dep2} > $@\r\n",
        "\r\n",
        "include $(patsubst %,%.d,${outfiles})\r\n",
        "\r\n",
        "%.output : ;\r\n",
        "\t@echo $@ : $^ >> ${dotfile}\r\n",
        "\t@rm $@.d\t\r\n"
       ]
      }
     ],
     "prompt_number": 388
    },
    {
     "cell_type": "code",
     "collapsed": false,
     "input": [
      "%%bash\n",
      "rm makefile10.txt # I can't figure out how to do this within the makefile\n",
      "make -f Makefile10"
     ],
     "language": "python",
     "metadata": {},
     "outputs": [
      {
       "output_type": "stream",
       "stream": "stderr",
       "text": [
        "Makefile10:14: filesystem2/2003/feb/data.output.d: No such file or directory\n",
        "Makefile10:14: filesystem2/2003/jan/data.output.d: No such file or directory\n"
       ]
      }
     ],
     "prompt_number": 384
    },
    {
     "cell_type": "code",
     "collapsed": false,
     "input": [
      "outfile = open('makefile10.dot', 'w')\n",
      "infile = open('makefile10.txt', 'r')\n",
      "outfile.write('digraph G { \\n')\n",
      "outfile.write('rankdir=LR\\n')\n",
      "for line in infile:\n",
      "    tokens=line.split()\n",
      "    if tokens[1] != ':':\n",
      "        print \"unexpected format: \", tokens\n",
      "        print \"expected: [target : dep1 dep2 ... depn]\"\n",
      "    else:\n",
      "        target = tokens[0]\n",
      "        for token in tokens[2:]:\n",
      "            # this filters out the \"*.d -> *\" rules ... \n",
      "            if token != target + \".d\":\n",
      "                outfile.write('\"' + token + '\"' + \" -> \" + '\"' + target + '\"' + \"\\n\")\n",
      "outfile.write('}')\n",
      "outfile.close()"
     ],
     "language": "python",
     "metadata": {},
     "outputs": [],
     "prompt_number": 385
    },
    {
     "cell_type": "code",
     "collapsed": false,
     "input": [
      "%%bash\n",
      "dot -Tpng makefile10.dot -o makefile10.png"
     ],
     "language": "python",
     "metadata": {},
     "outputs": [],
     "prompt_number": 386
    },
    {
     "cell_type": "code",
     "collapsed": false,
     "input": [
      "import Image\n",
      "im = Image.open(\"makefile10.png\")\n",
      "imshow(array(im))\n",
      "pylab.axis('off')"
     ],
     "language": "python",
     "metadata": {},
     "outputs": [
      {
       "output_type": "pyout",
       "prompt_number": 387,
       "text": [
        "(-0.5, 740.5, 346.5, -0.5)"
       ]
      },
      {
       "output_type": "display_data",
       "png": "[encoded data removed]"
      }
     ],
     "prompt_number": 387
    },
    {
     "cell_type": "code",
     "collapsed": false,
     "input": [],
     "language": "python",
     "metadata": {},
     "outputs": []
    }
   ],
   "metadata": {}
  }
 ]
}